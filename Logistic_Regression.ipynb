{
 "cells": [
  {
   "cell_type": "markdown",
   "metadata": {},
   "source": [
    "## Logistic Regression as a Single Neuran of a Neural Network\n",
    "\n",
    "- Build a logistic regression classifier to recognize cats, where logistic regression represents a single nueron. \n",
    "- Build the general architecture of a learning algorithm, including:\n",
    "    - Initializing parameters\n",
    "    - Calculating the cost function and its gradient\n",
    "    - Using gradient descent as the optimization algorithm"
   ]
  },
  {
   "cell_type": "code",
   "execution_count": 19,
   "metadata": {},
   "outputs": [],
   "source": [
    "import numpy as np\n",
    "import matplotlib.pyplot as plt\n",
    "import h5py\n",
    "import scipy\n",
    "from PIL import Image\n",
    "from scipy import ndimage\n",
    "import glob\n",
    "from sklearn.model_selection import train_test_split"
   ]
  },
  {
   "cell_type": "code",
   "execution_count": 20,
   "metadata": {},
   "outputs": [],
   "source": [
    "def convert_image_to_data(image, WIDTH, HEIGHT):\n",
    "    image_resized = Image.open(image).resize((WIDTH, HEIGHT))\n",
    "    image_array = np.array(image_resized).T\n",
    "    return image_array"
   ]
  },
  {
   "cell_type": "code",
   "execution_count": 21,
   "metadata": {},
   "outputs": [],
   "source": [
    "def create_train_test_data(num_pix,test_size=0.2):\n",
    "    cat_files = glob.glob(\"datasets/cat*\")\n",
    "    dog_files = glob.glob(\"datasets/dog*\")\n",
    "\n",
    "    # Restrict cat and dog files here for testing\n",
    "    cat_list = [convert_image_to_data(i, num_pix, num_pix) for i in cat_files]\n",
    "    dog_list = [convert_image_to_data(i, num_pix, num_pix) for i in dog_files]\n",
    "\n",
    "    y_cat = np.zeros(len(cat_list))\n",
    "    y_dog = np.ones(len(dog_list))\n",
    "\n",
    "    X = np.concatenate([cat_list, dog_list])\n",
    "    #X = np.concatenate([cat_list, dog_list])\n",
    "    y = np.concatenate([y_cat, y_dog])\n",
    "\n",
    "    X_train, X_test, y_train, y_test = train_test_split(X, y, test_size=0.2, random_state=1, stratify=y)\n",
    "    return X_train, X_test, y_train, y_test"
   ]
  },
  {
   "cell_type": "code",
   "execution_count": 22,
   "metadata": {
    "scrolled": true
   },
   "outputs": [],
   "source": [
    "# set the num_pix to 64\n",
    "num_pix = 64\n",
    "# load the train_set_x_orig, test_set_x_orig, train_set_y, test_set_y\n",
    "raw_train_set_x, raw_test_set_x, train_set_y, test_set_y = create_train_test_data(num_pix,0.2)"
   ]
  },
  {
   "cell_type": "code",
   "execution_count": 23,
   "metadata": {},
   "outputs": [
    {
     "name": "stdout",
     "output_type": "stream",
     "text": [
      "Number of training examples is 640\n",
      "Number of test examples is 160\n",
      "height and width of a training image is [64, 64]\n",
      "raw_train_set_x shape: (640, 3, 64, 64)\n",
      "train_set_y shape: (640,)\n",
      "raw_test_set_x shape: (160, 3, 64, 64)\n",
      "test_set_y shape: (160,)\n"
     ]
    }
   ],
   "source": [
    "m_train = raw_train_set_x.shape[0]\n",
    "m_test = raw_test_set_x.shape[0]\n",
    "num_px = [raw_train_set_x.shape[2], raw_train_set_x.shape[3]]\n",
    "print('Number of training examples is ' + str(m_train))\n",
    "print('Number of test examples is ' + str(m_test))\n",
    "print('height and width of a training image is ' + str(num_px) )\n",
    "print (\"raw_train_set_x shape: \" + str(raw_train_set_x.shape))\n",
    "print (\"train_set_y shape: \" + str(train_set_y.shape))\n",
    "print (\"raw_test_set_x shape: \" + str(raw_test_set_x.shape))\n",
    "print (\"test_set_y shape: \" + str(test_set_y.shape))"
   ]
  },
  {
   "cell_type": "code",
   "execution_count": 24,
   "metadata": {},
   "outputs": [
    {
     "name": "stdout",
     "output_type": "stream",
     "text": [
      "Resahpe train_set_y shape to: (1, 640)\n",
      "Reshape test_set_y shape to: (1, 160)\n"
     ]
    }
   ],
   "source": [
    "'''\n",
    "Reshape data so the train_set_y and test_set_y are represented as a matrix with size (1, number of examples)\n",
    "'''\n",
    "\n",
    "train_set_y = train_set_y.reshape(-1,1).T\n",
    "test_set_y = test_set_y.reshape(-1,1).T\n",
    "\n",
    "print (\"Resahpe train_set_y shape to: \" + str(train_set_y.shape))\n",
    "print (\"Reshape test_set_y shape to: \" + str(test_set_y.shape))"
   ]
  },
  {
   "cell_type": "code",
   "execution_count": 25,
   "metadata": {},
   "outputs": [
    {
     "name": "stdout",
     "output_type": "stream",
     "text": [
      "(12288, 640)\n",
      "(12288, 160)\n"
     ]
    }
   ],
   "source": [
    "'''\n",
    "Reshape the training and test data sets so that each image is flattened into single vectors of shape \n",
    "(num_px  ∗ num_px  ∗ 3, 1). \n",
    "Check the shapes for train_set_x_flatten and test_set_x_flatten.\n",
    "'''\n",
    "\n",
    "train_set_x_flatten = raw_train_set_x.reshape(raw_train_set_x.shape[0], -1).T\n",
    "test_set_x_flatten = raw_test_set_x.reshape(raw_test_set_x.shape[0], -1).T\n",
    "\n",
    "print(train_set_x_flatten.shape)\n",
    "print(test_set_x_flatten.shape)"
   ]
  },
  {
   "cell_type": "code",
   "execution_count": 26,
   "metadata": {},
   "outputs": [],
   "source": [
    "# Standardize the data\n",
    "train_set_x = train_set_x_flatten/255.\n",
    "test_set_x = test_set_x_flatten/255."
   ]
  },
  {
   "cell_type": "code",
   "execution_count": 27,
   "metadata": {},
   "outputs": [],
   "source": [
    "def sigmoid(z):\n",
    "    \n",
    "    s = 1/(1 + np.exp(-z))\n",
    "    \n",
    "    return s"
   ]
  },
  {
   "cell_type": "code",
   "execution_count": 28,
   "metadata": {},
   "outputs": [],
   "source": [
    "def initialize_with_zeros(dim):\n",
    "    \n",
    "    w = np.zeros((dim,1), float)\n",
    "    b = 0\n",
    "   \n",
    "\n",
    "    assert(w.shape == (dim, 1))\n",
    "    assert(isinstance(b, float) or isinstance(b, int))\n",
    "    \n",
    "    return w, b"
   ]
  },
  {
   "cell_type": "code",
   "execution_count": 29,
   "metadata": {},
   "outputs": [],
   "source": [
    "'''\n",
    "Implement forward propagation to calculate activation A and cost.\n",
    "'''\n",
    "\n",
    "def f_prop(w, b, X, Y):\n",
    "    \n",
    "    m = X.shape[1]  # compute the number of trainig data\n",
    "    # FORWARD PROPAGATION (FROM X TO COST)\n",
    "    z = np.dot(w.T, X) + b\n",
    "    A = sigmoid(z)      # compute activation\n",
    "    cost = -1/m * np.sum(Y * np.log(A) + (1-Y)* np.log(1-A))  # compute cost\n",
    "    \n",
    "    cost = np.squeeze(cost)\n",
    "    assert(cost.shape == ())\n",
    "    \n",
    "    return A, cost"
   ]
  },
  {
   "cell_type": "code",
   "execution_count": 30,
   "metadata": {},
   "outputs": [],
   "source": [
    "'''\n",
    "Implement backward propagation to compute gradients dw and db\n",
    "'''\n",
    "\n",
    "def back_prop(X, Y, A):\n",
    "    # From backward propagation, we have\n",
    "    # dL/dw1 = dL/dz * x1 -> dw1 = dz1 * x1 = (a1 - y1) * x1\n",
    "    # where x1 is the first attribute of a data point.\n",
    "    # We want dw to have same shape of w, therefore\n",
    "    \n",
    "    m = X.shape[1]\n",
    "    dz = A - Y\n",
    "    dw = (1/m)*np.dot(X,dz.T) # n * 1\n",
    "    db = (1/m)*np.sum(dz)\n",
    "   \n",
    "    return dw, db"
   ]
  },
  {
   "cell_type": "code",
   "execution_count": 31,
   "metadata": {},
   "outputs": [],
   "source": [
    "'''\n",
    "Optimization\n",
    "    - Initialized parameters.\n",
    "    - Compute a cost function and its gradient.\n",
    "    - Update the parameters using gradient descent.\n",
    "    - The goal is to learn w and b by minimizing the cost function J. \n",
    "'''\n",
    "\n",
    "def optimize(w, b, X, Y, num_iterations, learning_rate, print_cost = False):\n",
    "    \n",
    "    costs = []\n",
    "    dbs = []\n",
    "    \n",
    "    for i in range(num_iterations):\n",
    "        \n",
    "        \n",
    "        # Cost and gradient calculation (≈ 1-4 lines of code)\n",
    "        A, cost = f_prop(w, b, X, Y)\n",
    "        dw, db = back_prop(X, Y, A)\n",
    "        # update rule (≈ 2 lines of code)\n",
    "        w = w - learning_rate * dw\n",
    "        b = b - learning_rate * db\n",
    "        \n",
    "        # Record the costs every 100 iterations\n",
    "        if i % 100 == 0:\n",
    "            costs.append(cost)\n",
    "            dbs.append(db)\n",
    "            \n",
    "        \n",
    "        # Print the cost every 100 training examples\n",
    "        if print_cost and i % 100 == 0:\n",
    "            print (\"Cost after iteration %i: %f\" %(i, cost))\n",
    "    \n",
    "    params = {\"w\": w,\n",
    "              \"b\": b}\n",
    "    \n",
    "    grads = {\"dw\": dw,\n",
    "             \"db\": db}\n",
    "    \n",
    "    return params, grads, costs, dbs"
   ]
  },
  {
   "cell_type": "code",
   "execution_count": 32,
   "metadata": {},
   "outputs": [],
   "source": [
    "'''\n",
    "Prediction\n",
    "\n",
    "Implement the predict function:\n",
    "    - Calculate A = sigmoid(w^T X_test + b)\n",
    "    - Convert the entries of a into 0 (if activation <= 0.5) or 1 (if activation > 0.5),\n",
    "'''\n",
    "\n",
    "def predict(w, b, X):\n",
    "    \n",
    "    m = X.shape[1]\n",
    "    Y_prediction = np.zeros((1,m))\n",
    "    w = w.reshape(X.shape[0], 1)\n",
    "    \n",
    "    # Compute vector \"A\" predicting the probabilities of a cat being present in the picture\n",
    "    z = np.dot(w.T, X) + b\n",
    "    A = sigmoid(z)\n",
    "   \n",
    "    Y_prediction = np.array([1 if a > 0.5 else 0 for a in A[0]])\n",
    "    Y_prediction = Y_prediction.reshape((1,-1))\n",
    "        \n",
    "    \n",
    "    assert(Y_prediction.shape == (1, m))\n",
    "    \n",
    "    return Y_prediction"
   ]
  },
  {
   "cell_type": "code",
   "execution_count": 33,
   "metadata": {},
   "outputs": [],
   "source": [
    "'''\n",
    "Regression Model\n",
    "\n",
    "Implement the model function:\n",
    "    - Y_prediction for predictions on the test set\n",
    "    - Y_prediction_train for predictions on the train set\n",
    "    - w, costs, grads for the outputs of optimize()\n",
    "'''\n",
    "\n",
    "def model(X_train, Y_train, X_test, Y_test, num_iterations = 2000, learning_rate = 0.5, print_cost = False):\n",
    "    \"\"\"\n",
    "    Builds the logistic regression model by calling the function you've implemented previously\n",
    "    \n",
    "    Arguments:\n",
    "    X_train -- training set represented by a numpy array of shape (num_px * num_px * 3, m_train)\n",
    "    Y_train -- training labels represented by a numpy array (vector) of shape (1, m_train)\n",
    "    X_test -- test set represented by a numpy array of shape (num_px * num_px * 3, m_test)\n",
    "    Y_test -- test labels represented by a numpy array (vector) of shape (1, m_test)\n",
    "    num_iterations -- hyperparameter representing the number of iterations to optimize the parameters\n",
    "    learning_rate -- hyperparameter representing the learning rate used in the update rule of optimize()\n",
    "    print_cost -- Set to true to print the cost every 100 iterations\n",
    "    \n",
    "    Returns:\n",
    "    d -- dictionary containing information about the model.\n",
    "    \"\"\"\n",
    "    \n",
    "       \n",
    "    # initialize parameters with zeros (≈ 1 line of code)\n",
    "    w, b = initialize_with_zeros(X_train.shape[0])\n",
    "\n",
    "    # Gradient descent (≈ 1 line of code)\n",
    "    parameters, grads, costs, dbs = optimize(w, b, X_train, Y_train, num_iterations, learning_rate, print_cost)\n",
    "    \n",
    "    # Retrieve parameters w and b from dictionary \"parameters\"\n",
    "    w = parameters[\"w\"]\n",
    "    b = parameters[\"b\"]\n",
    "    \n",
    "    # Predict test/train set examples (≈ 2 lines of code)\n",
    "    Y_prediction_test = predict(w, b, X_test)\n",
    "    Y_prediction_train = predict(w, b, X_train)\n",
    "\n",
    "    \n",
    "    # Print train/test Errors\n",
    "    print(\"train accuracy: {} %\".format(100 - np.mean(np.abs(Y_prediction_train - Y_train)) * 100))\n",
    "    print(\"test accuracy: {} %\".format(100 - np.mean(np.abs(Y_prediction_test - Y_test)) * 100))\n",
    "\n",
    "    \n",
    "    d = {\"costs\": costs,\n",
    "         \"b_grad\": dbs,\n",
    "         \"Y_prediction_test\": Y_prediction_test, \n",
    "         \"Y_prediction_train\" : Y_prediction_train, \n",
    "         \"w\" : w, \n",
    "         \"b\" : b,\n",
    "         \"learning_rate\" : learning_rate,\n",
    "         \"num_iterations\": num_iterations}\n",
    "    \n",
    "    return d"
   ]
  },
  {
   "cell_type": "markdown",
   "metadata": {},
   "source": [
    "## Run the regression model function to train your model.\n",
    "- Set different `num_iterations` and `learning_rate`"
   ]
  },
  {
   "cell_type": "code",
   "execution_count": 34,
   "metadata": {},
   "outputs": [
    {
     "name": "stdout",
     "output_type": "stream",
     "text": [
      "train accuracy: 81.40625 %\n",
      "test accuracy: 61.875 %\n"
     ]
    }
   ],
   "source": [
    "# (iterations, learning_rate) = (5000, 0.0005)\n",
    "num_iterations = 5000\n",
    "learning_rate = 0.0005\n",
    "d_5000 = model(train_set_x, train_set_y, test_set_x, test_set_y, num_iterations , learning_rate , print_cost = False)"
   ]
  },
  {
   "cell_type": "code",
   "execution_count": 36,
   "metadata": {},
   "outputs": [
    {
     "data": {
      "image/png": "[encoded data removed]",
      "text/plain": [
       "<Figure size 432x288 with 1 Axes>"
      ]
     },
     "metadata": {
      "needs_background": "light"
     },
     "output_type": "display_data"
    }
   ],
   "source": [
    "# Plot the cost function and the gradients.\n",
    "costs = np.squeeze(d_5000['costs'])\n",
    "plt.plot(costs)\n",
    "plt.ylabel('cost')\n",
    "plt.xlabel('iterations (per hundreds)')\n",
    "plt.title(\"Learning rate =\" + str(d_5000[\"learning_rate\"]))\n",
    "plt.show()"
   ]
  },
  {
   "cell_type": "code",
   "execution_count": 37,
   "metadata": {},
   "outputs": [
    {
     "data": {
      "image/png": "[encoded data removed]",
      "text/plain": [
       "<Figure size 432x288 with 1 Axes>"
      ]
     },
     "metadata": {
      "needs_background": "light"
     },
     "output_type": "display_data"
    }
   ],
   "source": [
    "plot_db = d_5000['b_grad']\n",
    "plt.plot(plot_db)\n",
    "plt.ylabel('db (gradient of bias)')\n",
    "plt.xlabel('iterations (per hundreds)')\n",
    "plt.title(\"Learning rate =\" + str(d_5000[\"learning_rate\"]))\n",
    "plt.show()"
   ]
  },
  {
   "cell_type": "code",
   "execution_count": 38,
   "metadata": {
    "scrolled": false
   },
   "outputs": [
    {
     "name": "stdout",
     "output_type": "stream",
     "text": [
      "train accuracy: 93.4375 %\n",
      "test accuracy: 56.25 %\n"
     ]
    }
   ],
   "source": [
    "num_iterations = 2000\n",
    "learning_rate = 0.005\n",
    "d_2000 = model(train_set_x, train_set_y, test_set_x, test_set_y, num_iterations , learning_rate , print_cost = False)"
   ]
  },
  {
   "cell_type": "code",
   "execution_count": 39,
   "metadata": {},
   "outputs": [
    {
     "data": {
      "image/png": "[encoded data removed]",
      "text/plain": [
       "<Figure size 432x288 with 1 Axes>"
      ]
     },
     "metadata": {
      "needs_background": "light"
     },
     "output_type": "display_data"
    }
   ],
   "source": [
    "costs = np.squeeze(d_2000['costs'])\n",
    "plt.plot(costs)\n",
    "plt.ylabel('cost')\n",
    "plt.xlabel('iterations (per hundreds)')\n",
    "plt.title(\"Learning rate =\" + str(d_2000[\"learning_rate\"]))\n",
    "plt.show()"
   ]
  },
  {
   "cell_type": "code",
   "execution_count": 40,
   "metadata": {},
   "outputs": [
    {
     "data": {
      "image/png": "[encoded data removed]",
      "text/plain": [
       "<Figure size 432x288 with 1 Axes>"
      ]
     },
     "metadata": {
      "needs_background": "light"
     },
     "output_type": "display_data"
    }
   ],
   "source": [
    "plot_db = d_2000['b_grad']\n",
    "plt.plot(plot_db)\n",
    "plt.ylabel('db (gradient of bias)')\n",
    "plt.xlabel('iterations (per hundreds)')\n",
    "plt.title(\"Learning rate =\" + str(d_2000[\"learning_rate\"]))\n",
    "plt.show()"
   ]
  },
  {
   "cell_type": "code",
   "execution_count": 41,
   "metadata": {
    "scrolled": true
   },
   "outputs": [
    {
     "name": "stdout",
     "output_type": "stream",
     "text": [
      "learning rate is: 0.005\n",
      "number of iteraion is: 1500\n",
      "train accuracy: 83.125 %\n",
      "test accuracy: 50.625 %\n",
      "\n",
      "-------------------------------------------------------\n",
      "\n",
      "learning rate is: 0.0005\n",
      "number of iteraion is: 1500\n",
      "train accuracy: 72.65625 %\n",
      "test accuracy: 64.375 %\n",
      "\n",
      "-------------------------------------------------------\n",
      "\n"
     ]
    },
    {
     "data": {
      "image/png": "[encoded data removed]",
      "text/plain": [
       "<Figure size 432x288 with 1 Axes>"
      ]
     },
     "metadata": {
      "needs_background": "light"
     },
     "output_type": "display_data"
    }
   ],
   "source": [
    "'''\n",
    "Analysis\n",
    "\n",
    "Comparing costs of b at learing rates 0.005 and 0.0005, respectively \n",
    "'''\n",
    "\n",
    "learning_rates = [0.005,0.0005]  \n",
    "\n",
    "models = {}\n",
    "for i in learning_rates:\n",
    "    print (\"learning rate is: \" + str(i))\n",
    "    print (\"number of iteraion is: 1500\")\n",
    "    models[str(i)] = model(train_set_x, train_set_y, test_set_x, test_set_y, num_iterations = 1500, learning_rate = i, print_cost = False)\n",
    "    print ('\\n' + \"-------------------------------------------------------\" + '\\n')\n",
    "\n",
    "for i in learning_rates:\n",
    "    plt.plot(np.squeeze(models[str(i)][\"costs\"]), label= str(models[str(i)][\"learning_rate\"]))\n",
    "\n",
    "plt.ylabel('cost')\n",
    "plt.xlabel('iterations(per hundreds)')\n",
    "\n",
    "legend = plt.legend(loc='upper center', shadow=True)\n",
    "frame = legend.get_frame()\n",
    "frame.set_facecolor('0.90')\n",
    "plt.show()"
   ]
  },
  {
   "cell_type": "code",
   "execution_count": 42,
   "metadata": {
    "scrolled": true
   },
   "outputs": [
    {
     "name": "stdout",
     "output_type": "stream",
     "text": [
      "learning rate is: 0.005\n",
      "number of iteraion is: 1500\n",
      "train accuracy: 83.125 %\n",
      "test accuracy: 50.625 %\n",
      "\n",
      "-------------------------------------------------------\n",
      "\n",
      "learning rate is: 0.0005\n",
      "number of iteraion is: 1500\n",
      "train accuracy: 72.65625 %\n",
      "test accuracy: 64.375 %\n",
      "\n",
      "-------------------------------------------------------\n",
      "\n"
     ]
    },
    {
     "data": {
      "image/png": "[encoded data removed]",
      "text/plain": [
       "<Figure size 432x288 with 1 Axes>"
      ]
     },
     "metadata": {
      "needs_background": "light"
     },
     "output_type": "display_data"
    }
   ],
   "source": [
    "# Comparing gradients of b at learing rates 0.005 and 0.0005, respectively \n",
    "learning_rates = [0.005,0.0005]  \n",
    "\n",
    "models = {}\n",
    "for i in learning_rates:\n",
    "    print (\"learning rate is: \" + str(i))\n",
    "    print (\"number of iteraion is: 1500\")\n",
    "    models[str(i)] = model(train_set_x, train_set_y, test_set_x, test_set_y, num_iterations = 1500, learning_rate = i, print_cost = False)\n",
    "    print ('\\n' + \"-------------------------------------------------------\" + '\\n')\n",
    "\n",
    "for i in learning_rates:\n",
    "    plt.plot(np.squeeze(models[str(i)][\"b_grad\"]), label= str(models[str(i)][\"learning_rate\"]))\n",
    "\n",
    "plt.ylabel('db (gradient of bias)')\n",
    "plt.xlabel('iterations(per hundreds)')\n",
    "\n",
    "legend = plt.legend(loc='upper center', shadow=True)\n",
    "frame = legend.get_frame()\n",
    "frame.set_facecolor('0.90')\n",
    "plt.show()"
   ]
  },
  {
   "cell_type": "code",
   "execution_count": 43,
   "metadata": {},
   "outputs": [],
   "source": [
    "# Load another data set to examine the performance of Logistic Regression \n",
    "\n",
    "def load_dataset(database_path):\n",
    "    # open dataset \n",
    "    dataset_db = h5py.File(database_path, \"r\")\n",
    "    \n",
    "    \n",
    "    datasets = {}\n",
    "    for dataset in [\"train\", \"dev\", \"test\"]:\n",
    "        \n",
    "        # load the train set feautres (picuture)\n",
    "        datasets[dataset] = {'X' : np.array(dataset_db[dataset + \"_img\"][:]),'Y' : np.array(dataset_db[dataset + \"_labels\"][:])}\n",
    "    return datasets\n",
    "    "
   ]
  },
  {
   "cell_type": "code",
   "execution_count": 44,
   "metadata": {},
   "outputs": [],
   "source": [
    "car_data_set = load_dataset(\"./car_dataset.hdf5\")"
   ]
  },
  {
   "cell_type": "code",
   "execution_count": 47,
   "metadata": {},
   "outputs": [
    {
     "name": "stdout",
     "output_type": "stream",
     "text": [
      "(517, 64, 64, 3)\n",
      "(517,)\n",
      "(172, 64, 64, 3)\n",
      "(172,)\n",
      "(173, 64, 64, 3)\n",
      "(173,)\n"
     ]
    }
   ],
   "source": [
    "raw_car_train_x = car_data_set[\"train\"][\"X\"]\n",
    "raw_car_train_y = car_data_set[\"train\"][\"Y\"]\n",
    "raw_car_dev_x = car_data_set[\"dev\"][\"X\"]\n",
    "raw_car_dev_y = car_data_set[\"dev\"][\"Y\"]\n",
    "raw_car_test_x = car_data_set[\"test\"][\"X\"]\n",
    "raw_car_test_y = car_data_set[\"test\"][\"Y\"]\n",
    "\n",
    "print(raw_car_train_x.shape)\n",
    "print(raw_car_train_y.shape)\n",
    "print(raw_car_dev_x.shape)\n",
    "print(raw_car_dev_y.shape)\n",
    "print(raw_car_test_x.shape)\n",
    "print(raw_car_test_y.shape)"
   ]
  },
  {
   "cell_type": "code",
   "execution_count": 49,
   "metadata": {},
   "outputs": [
    {
     "name": "stdout",
     "output_type": "stream",
     "text": [
      "(1, 517)\n",
      "(1, 172)\n",
      "(1, 173)\n",
      "(12288, 517)\n",
      "(12288, 172)\n",
      "(12288, 173)\n"
     ]
    }
   ],
   "source": [
    "car_train_y = raw_car_train_y.reshape(1,-1)\n",
    "car_dev_y = raw_car_dev_y.reshape(1,-1)\n",
    "car_test_y = raw_car_test_y.reshape(1,-1)\n",
    "\n",
    "car_train_x_flatten = raw_car_train_x.reshape(raw_car_train_x.shape[0], -1).T\n",
    "car_dev_x_flatten = raw_car_dev_x.reshape(raw_car_dev_x.shape[0], -1).T\n",
    "car_test_x_flatten = raw_car_test_x.reshape(raw_car_test_x.shape[0], -1).T\n",
    "\n",
    "print(car_train_y.shape)\n",
    "print(car_dev_y.shape)\n",
    "print(car_test_y.shape)\n",
    "print(car_train_x_flatten.shape)\n",
    "print(car_dev_x_flatten.shape)\n",
    "print(car_test_x_flatten.shape)"
   ]
  },
  {
   "cell_type": "code",
   "execution_count": 50,
   "metadata": {},
   "outputs": [],
   "source": [
    "car_train_x = car_train_x_flatten/255.\n",
    "car_dev_x = car_dev_x_flatten/255.\n",
    "car_test_x = car_test_x_flatten/255."
   ]
  },
  {
   "cell_type": "code",
   "execution_count": 51,
   "metadata": {},
   "outputs": [
    {
     "name": "stdout",
     "output_type": "stream",
     "text": [
      "train accuracy: 89.16827852998065 %\n",
      "test accuracy: 85.54913294797687 %\n"
     ]
    }
   ],
   "source": [
    "num_iterations = 2000\n",
    "learning_rate = 0.0005\n",
    "d_car_train_test = model(car_train_x, car_train_y, car_test_x, car_test_y, num_iterations , learning_rate , print_cost = False)"
   ]
  },
  {
   "cell_type": "code",
   "execution_count": 52,
   "metadata": {},
   "outputs": [
    {
     "data": {
      "image/png": "[encoded data removed]",
      "text/plain": [
       "<Figure size 432x288 with 1 Axes>"
      ]
     },
     "metadata": {
      "needs_background": "light"
     },
     "output_type": "display_data"
    }
   ],
   "source": [
    "costs = np.squeeze(d_car_train_test['costs'])\n",
    "plt.plot(costs)\n",
    "plt.ylabel('cost')\n",
    "plt.xlabel('iterations (per hundreds)')\n",
    "plt.title(\"Learning rate =\" + str(d_car_train_test[\"learning_rate\"]))\n",
    "plt.show()"
   ]
  },
  {
   "cell_type": "code",
   "execution_count": 53,
   "metadata": {},
   "outputs": [
    {
     "data": {
      "image/png": "[encoded data removed]",
      "text/plain": [
       "<Figure size 432x288 with 1 Axes>"
      ]
     },
     "metadata": {
      "needs_background": "light"
     },
     "output_type": "display_data"
    }
   ],
   "source": [
    "plot_db = d_car_train_test['b_grad']\n",
    "plt.plot(plot_db)\n",
    "plt.ylabel('db (gradient of bias)')\n",
    "plt.xlabel('iterations (per hundreds)')\n",
    "plt.title(\"Learning rate =\" + str(d_car_train_test[\"learning_rate\"]))\n",
    "plt.show()"
   ]
  },
  {
   "cell_type": "code",
   "execution_count": 54,
   "metadata": {},
   "outputs": [
    {
     "name": "stdout",
     "output_type": "stream",
     "text": [
      "train accuracy: 97.48549323017409 %\n",
      "test accuracy: 91.86046511627907 %\n"
     ]
    }
   ],
   "source": [
    "num_iterations = 2000\n",
    "learning_rate = 0.005\n",
    "d_car_train_dev = model(car_train_x, car_train_y, car_dev_x, car_dev_y, num_iterations , learning_rate , print_cost = False)"
   ]
  },
  {
   "cell_type": "code",
   "execution_count": 56,
   "metadata": {},
   "outputs": [
    {
     "data": {
      "image/png": "[encoded data removed]",
      "text/plain": [
       "<Figure size 432x288 with 1 Axes>"
      ]
     },
     "metadata": {
      "needs_background": "light"
     },
     "output_type": "display_data"
    }
   ],
   "source": [
    "costs = np.squeeze(d_car_train_dev['costs'])\n",
    "plt.plot(costs)\n",
    "plt.ylabel('cost')\n",
    "plt.xlabel('iterations (per hundreds)')\n",
    "plt.title(\"Learning rate =\" + str(d_car_train_dev[\"learning_rate\"]))\n",
    "plt.show()"
   ]
  },
  {
   "cell_type": "code",
   "execution_count": 57,
   "metadata": {},
   "outputs": [
    {
     "data": {
      "image/png": "[encoded data removed]",
      "text/plain": [
       "<Figure size 432x288 with 1 Axes>"
      ]
     },
     "metadata": {
      "needs_background": "light"
     },
     "output_type": "display_data"
    }
   ],
   "source": [
    "plot_db = d_car_train_dev['b_grad']\n",
    "plt.plot(plot_db)\n",
    "plt.ylabel('db (gradient of bias)')\n",
    "plt.xlabel('iterations (per hundreds)')\n",
    "plt.title(\"Learning rate =\" + str(d_car_train_dev[\"learning_rate\"]))\n",
    "plt.show()"
   ]
  },
  {
   "cell_type": "markdown",
   "metadata": {},
   "source": [
    "Accuracy report for car data set:\n",
    "\n",
    "Using train-test data set:\n",
    "train accuracy: 89.16827852998065 % test accuracy: 85.54913294797687 %\n",
    "\n",
    "Using train-dev data set:\n",
    "train accuracy: 97.48549323017409 %\n",
    "test accuracy: 91.86046511627907 %"
   ]
  }
 ],
 "metadata": {
  "coursera": {
   "course_slug": "neural-networks-deep-learning",
   "graded_item_id": "XaIWT",
   "launcher_item_id": "zAgPl"
  },
  "kernelspec": {
   "display_name": "Python 3",
   "language": "python",
   "name": "python3"
  },
  "language_info": {
   "codemirror_mode": {
    "name": "ipython",
    "version": 3
   },
   "file_extension": ".py",
   "mimetype": "text/x-python",
   "name": "python",
   "nbconvert_exporter": "python",
   "pygments_lexer": "ipython3",
   "version": "3.7.1"
  },
  "widgets": {
   "state": {},
   "version": "1.1.2"
  }
 },
 "nbformat": 4,
 "nbformat_minor": 2
}
